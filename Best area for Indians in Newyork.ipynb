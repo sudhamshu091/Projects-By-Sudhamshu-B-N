{
 "cells": [
  {
   "cell_type": "markdown",
   "metadata": {
    "collapsed": true
   },
   "source": [
    "<h1>Best area for Indians in Newyork with Indian cuisines</h1>"
   ]
  },
  {
   "cell_type": "markdown",
   "metadata": {},
   "source": [
    "<h1>Introduction</h1>"
   ]
  },
  {
   "cell_type": "markdown",
   "metadata": {},
   "source": [
    "<h3>Indian community plays an important role in American coding community.And the most educated community in America are Indians.<br>\n",
    "According to economictimes.indiantimes.com 44,02,363 was the population of Indian-Americans with multiple ethnicities.New York<br>\n",
    "City was home to nearly 8.5 million people in 2014, accounting for over 40% of the population of New York State and a slightly<br>\n",
    "lower percentage of the New York metropolitan area, home to approximately 23.6 million. Over the last decade the city has been <br>\n",
    "growing faster than the region. The New York region continues to be by far the leading metropolitan gateway for legal immigrants<br>\n",
    "admitted into the United States.<br>\n",
    "<br>\n",
    "Throughout its history, New York City has been a major point of entry for immigrants; the term “melting pot” was coined to <br>\n",
    "describe densely populated immigrant neighbourhoods on the Lower East Side. As many as 800 languages are spoken in New York, making <br>\n",
    "it the most linguistically diverse city in the world. English remains the most widely spoken language, although there are areas in <br>\n",
    "the outer boroughs in which up to 25% of people speak English as an alternate language, and/or have limited or no English language <br>\n",
    "fluency. English is least spoken in neighbourhoods such as Flushing, Sunset Park, and Corona.<br>\n",
    "<br>\n",
    "Almost everyone knows how diverse Indian culture is and so the food.The North Indian and South Indian dishes should be the preference <br>\n",
    "of these people.So in this project I am trying to analyze in detail the Indian restaurants in Newyork city.<br>\n",
    "<br>\n",
    "So as part of this project , we will list and visualize all major parts of New York City that has great indian resturants.Which have high<br>\n",
    "rating as well as diverse food item.</h3>"
   ]
  },
  {
   "cell_type": "markdown",
   "metadata": {},
   "source": [
    "<h1>Dataset</h1>"
   ]
  },
  {
   "cell_type": "markdown",
   "metadata": {},
   "source": [
    "<h3>For this project we need the following data :<br>\n",
    "<br>\n",
    "New York City data that contains list Boroughs, Neighborhoods along with their latitude and longitude.<br>\n",
    "Data source :<h4>https://cocl.us/new_york_dataset</h4><br>\n",
    "<h3>Description : This data set contains the required information. And we will use this data set to explore various neighborhoods of new york city.<br>\n",
    "Indian resturants in each neighborhood of new york city.<br>\n",
    "Data source : Fousquare API<br>\n",
    "Description : By using this api we will get all the venues in each neighborhood. We can filter these venues to get only indian resturants.<br>\n",
    "GeoSpace data<br>\n",
    "Data source : <h4>https://data.cityofnewyork.us/City-Government/Borough-Boundaries/tqmj-j8zm</h4><br>\n",
    "<h3>Description : By using this geo space data we will get the New york Borough boundaries that will help us visualize choropleth map.<h3>"
   ]
  },
  {
   "cell_type": "markdown",
   "metadata": {},
   "source": [
    "<h1>Approach</h1>"
   ]
  },
  {
   "cell_type": "markdown",
   "metadata": {},
   "source": [
    "<h3>Collect the new york city data from <h4>https://cocl.us/new_york_dataset</h4><br>\n",
    "<h3>Using FourSquare API we will find all venues for each neighborhood.<br>\n",
    "Filter out all venues that are Indian Resturants.<br>\n",
    "Find rating , tips and like count for each Indian Resturants using FourSquare API.<br>\n",
    "Using rating for each resturant , we will sort that data.<br>\n",
    "Visualize the Ranking of neighborhoods using folium library(python)</h3>"
   ]
  },
  {
   "cell_type": "markdown",
   "metadata": {},
   "source": [
    "<h1>Expected results</h1>"
   ]
  },
  {
   "cell_type": "markdown",
   "metadata": {},
   "source": [
    "<h3>Best location in New York City for Indian Cuisine<br>\n",
    "Areas have potential Indian Resturant Market<br>\n",
    "Areas lack Indian Resturants<br>\n",
    "Best place to stay if I prefer Indian Cuisine<h3>"
   ]
  }
 ],
 "metadata": {
  "kernelspec": {
   "display_name": "Python 3.6",
   "language": "python",
   "name": "python3"
  },
  "language_info": {
   "codemirror_mode": {
    "name": "ipython",
    "version": 3
   },
   "file_extension": ".py",
   "mimetype": "text/x-python",
   "name": "python",
   "nbconvert_exporter": "python",
   "pygments_lexer": "ipython3",
   "version": "3.6.9"
  }
 },
 "nbformat": 4,
 "nbformat_minor": 1
}
